{
  "nbformat": 4,
  "nbformat_minor": 0,
  "metadata": {
    "colab": {
      "provenance": [],
      "authorship_tag": "ABX9TyMUrkPGPR8vv03u31VZQD6Y",
      "include_colab_link": true
    },
    "kernelspec": {
      "name": "python3",
      "display_name": "Python 3"
    },
    "language_info": {
      "name": "python"
    }
  },
  "cells": [
    {
      "cell_type": "markdown",
      "metadata": {
        "id": "view-in-github",
        "colab_type": "text"
      },
      "source": [
        "<a href=\"https://colab.research.google.com/github/Wilheim-ops/UgracenaStore/blob/main/BudgetCalculator.ipynb\" target=\"_parent\"><img src=\"https://colab.research.google.com/assets/colab-badge.svg\" alt=\"Open In Colab\"/></a>"
      ]
    },
    {
      "cell_type": "code",
      "execution_count": null,
      "metadata": {
        "id": "Bw9RsQ9CC7uY"
      },
      "outputs": [],
      "source": [
        "#Fixed expenses\n",
        "adm_bca = 15000\n",
        "adm_bni = 5000\n",
        "gold = 30000/12\n",
        "\n",
        "adm = adm_bca+adm_bni+gold\n",
        "bpjs = 167500\n",
        "stnk = 27000\n",
        "tax = 210000\n",
        "\n",
        "#Floating expenses\n",
        "pulsa = 30000\n",
        "bensin = 100000\n",
        "servis = 200000\n",
        "lunch = 100000\n",
        "\n",
        "listrik = 800000\n",
        "air = 50000\n",
        "bills = listrik+air\n",
        "others = 300000\n",
        "\n",
        "ee = pulsa+bensin+servis+lunch+bills+others\n",
        "\n",
        "def budget(a):\n",
        "  zakat = a*(25/1000)\n",
        "  gross = a-adm-bpjs-tax-stnk-zakat\n",
        "  investment = (gross)*20/100\n",
        "  nett = gross-investment\n",
        "  print(int(nett))\n",
        "  print(\"Invest: \", int(investment))\n",
        "  print(\"Zakat: \",int(zakat))\n",
        "  return nett\n",
        "\n",
        "#Balance scale\n",
        "def scale(b):\n",
        "  hasil = b-ee\n",
        "  if hasil<0:\n",
        "    cad = ee-500000\n",
        "    hasil1=b-cad\n",
        "    print(\"Minus\", int(hasil))\n",
        "    print(\"To balance backup\", int(hasil1))\n",
        "  else:\n",
        "    print(\"To balance\", int(hasil))"
      ]
    },
    {
      "cell_type": "code",
      "source": [
        "income = int(input(\"Salary: \"))\n",
        "nett_gaji = budget(income)\n",
        "scale(nett_gaji)"
      ],
      "metadata": {
        "id": "4kYuaICuQQuO",
        "colab": {
          "base_uri": "https://localhost:8080/"
        },
        "outputId": "aba375ab-8e4e-4803-ab25-369acf612163"
      },
      "execution_count": null,
      "outputs": [
        {
          "output_type": "stream",
          "name": "stdout",
          "text": [
            "Salary: 2260000\n",
            "1421200\n",
            "Invest:  355300\n",
            "Zakat:  56500\n",
            "Minus -158800\n",
            "To balance backup 341200\n"
          ]
        }
      ]
    },
    {
      "cell_type": "code",
      "source": [
        "a = ee+adm+bpjs+tax+stnk\n",
        "ap = a*(25/1000)\n",
        "ai = (a-ap)*(25/100)\n",
        "a+ap+ai"
      ],
      "metadata": {
        "id": "ACFg6TdORl9V",
        "colab": {
          "base_uri": "https://localhost:8080/"
        },
        "outputId": "766be069-e3e2-49de-f4d3-022aac756c3f"
      },
      "execution_count": null,
      "outputs": [
        {
          "output_type": "execute_result",
          "data": {
            "text/plain": [
              "2556700.4166666665"
            ]
          },
          "metadata": {},
          "execution_count": 14
        }
      ]
    },
    {
      "cell_type": "code",
      "source": [
        "850000-78927"
      ],
      "metadata": {
        "colab": {
          "base_uri": "https://localhost:8080/"
        },
        "id": "aPtkWqCoEj__",
        "outputId": "e55484e2-12d3-40f8-b8c5-bc666db79f8f"
      },
      "execution_count": null,
      "outputs": [
        {
          "output_type": "execute_result",
          "data": {
            "text/plain": [
              "771073"
            ]
          },
          "metadata": {},
          "execution_count": 5
        }
      ]
    }
  ]
}